{
 "cells": [
  {
   "cell_type": "code",
   "execution_count": null,
   "metadata": {
    "scrolled": false
   },
   "outputs": [
    {
     "name": "stdout",
     "output_type": "stream",
     "text": [
      "Extracting MNIST_data/train-images-idx3-ubyte.gz\n",
      "Extracting MNIST_data/train-labels-idx1-ubyte.gz\n",
      "Extracting MNIST_data/t10k-images-idx3-ubyte.gz\n",
      "Extracting MNIST_data/t10k-labels-idx1-ubyte.gz\n",
      "Learning started. It takes sometime.\n",
      "Epoch: 01 Loss: 0.15249166\n",
      "Epoch: 02 Loss: 0.05002002\n",
      "Epoch: 03 Loss: 0.03822474\n",
      "Epoch: 04 Loss: 0.03268396\n",
      "Epoch: 05 Loss: 0.02644057\n",
      "Epoch: 06 Loss: 0.02720382\n",
      "Epoch: 07 Loss: 0.02354336\n",
      "Epoch: 08 Loss: 0.02079113\n",
      "Epoch: 09 Loss: 0.02350275\n",
      "Epoch: 10 Loss: 0.02247494\n",
      "Learning finished.\n"
     ]
    }
   ],
   "source": [
    "import tensorflow as tf\n",
    "\n",
    "from tensorflow.examples.tutorials.mnist import input_data\n",
    "# check out https://www.tensorflow.org/get_started/mnist/beginners for\n",
    "# more information about the mnist dataset\n",
    "mnist = input_data.read_data_sets(\"MNIST_data/\", one_hot=True)\n",
    "\n",
    "X = tf.placeholder(tf.float32, [None, 28*28])\n",
    "X_img = tf.reshape(X, [-1, 28, 28, 1])\n",
    "Y = tf.placeholder(tf.float32, [None, 10])\n",
    "lr = 0.01\n",
    "\n",
    "# Layer1 ImgIn shape=(?, 28, 28, 1)\n",
    "W1 = tf.Variable(tf.random_normal([3, 3, 1, 32], stddev = 0.01))\n",
    "#    Conv          ->(?, 28, 28, 32)\n",
    "L1 = tf.nn.conv2d(X_img, W1, strides=[1, 1, 1, 1], padding='SAME')\n",
    "L1 = tf.nn.relu(L1)\n",
    "#    Pool          ->(?, 14, 14, 32)\n",
    "L1 = tf.nn.max_pool(L1, ksize = [1,2,2,1], strides=[1,2,2,1], padding='SAME')\n",
    "\n",
    "# Layer2 ImgIn shape=(?, 14, 14, 32)\n",
    "W2 = tf.Variable(tf.random_normal([3, 3, 32, 64], stddev=0.01))\n",
    "#    Conv          ->(?, 14, 14, 64)\n",
    "L2 = tf.nn.conv2d(L1, W2, strides=[1,1,1,1], padding='SAME')\n",
    "L2 = tf.nn.relu(L2)\n",
    "#    Pool          ->(?, 7, 7, 64)\n",
    "L2 = tf.nn.max_pool(L2, ksize=[1,2,2,1], strides=[1,2,2,1], padding='SAME')\n",
    "L2 = tf.reshape(L2, [-1, 7 * 7 * 64])\n",
    "\n",
    "# Final Fully Connected(FC, Dense) Layer\n",
    "W3 = tf.get_variable(\"W3\", shape=[7 * 7 * 64, 10], \n",
    "                     initializer = tf.contrib.layers.xavier_initializer())\n",
    "b = tf.Variable(tf.random_normal([10]))\n",
    "hypo = tf.matmul(L2, W3) + b\n",
    "\n",
    "loss = tf.reduce_mean(tf.nn.softmax_cross_entropy_with_logits(logits=hypo, labels=Y))\n",
    "optimizer = tf.train.AdamOptimizer(learning_rate=lr).minimize(loss)\n",
    "\n",
    "correct = tf.equal(tf.argmax(hypo, 1), tf.argmax(Y, 1))\n",
    "accu = tf.reduce_mean(tf.cast(correct, tf.float32))\n",
    "\n",
    "training_epochs = 10\n",
    "batch_size = 100\n",
    "\n",
    "# Training\n",
    "sess = tf.Session()\n",
    "sess.run(tf.global_variables_initializer())\n",
    "print('Learning started. It takes sometime.')\n",
    "for epoch in range(training_epochs):\n",
    "    avg_loss = 0\n",
    "    total_batch = int(mnist.train.num_examples/batch_size)\n",
    "    for i in range(total_batch):\n",
    "        x_batch, y_batch = mnist.train.next_batch(batch_size)\n",
    "        feed = {X: x_batch, Y: y_batch}\n",
    "        _, l = sess.run([optimizer, loss], feed_dict = feed)\n",
    "        avg_loss += l/total_batch\n",
    "    print('Epoch:', '%02d' %(epoch+1), 'Loss:', '{:.8f}'.format(avg_loss))\n",
    "    \n",
    "print('Learning finished.')\n",
    "\n",
    "# Testing\n",
    "print('Accuracy:', sess.run(accu, feed_dict={X:mnist.test.images, Y:mnist.test.labels}))\n"
   ]
  },
  {
   "cell_type": "code",
   "execution_count": null,
   "metadata": {
    "collapsed": true
   },
   "outputs": [],
   "source": []
  }
 ],
 "metadata": {
  "kernelspec": {
   "display_name": "Python 3",
   "language": "python",
   "name": "python3"
  },
  "language_info": {
   "codemirror_mode": {
    "name": "ipython",
    "version": 3
   },
   "file_extension": ".py",
   "mimetype": "text/x-python",
   "name": "python",
   "nbconvert_exporter": "python",
   "pygments_lexer": "ipython3",
   "version": "3.6.2"
  }
 },
 "nbformat": 4,
 "nbformat_minor": 2
}
