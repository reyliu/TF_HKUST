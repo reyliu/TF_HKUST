{
 "cells": [
  {
   "cell_type": "code",
   "execution_count": 17,
   "metadata": {},
   "outputs": [
    {
     "name": "stdout",
     "output_type": "stream",
     "text": [
      "Extracting MNIST_data/train-images-idx3-ubyte.gz\n",
      "Extracting MNIST_data/train-labels-idx1-ubyte.gz\n",
      "Extracting MNIST_data/t10k-images-idx3-ubyte.gz\n",
      "Extracting MNIST_data/t10k-labels-idx1-ubyte.gz\n",
      "Epoch: 01 loss = 3.141508753\n",
      "Epoch: 02 loss = 1.158293765\n",
      "Epoch: 03 loss = 0.919495532\n",
      "Epoch: 04 loss = 0.799615721\n",
      "Epoch: 05 loss = 0.723769659\n",
      "Epoch: 06 loss = 0.669032321\n",
      "Epoch: 07 loss = 0.627817764\n",
      "Epoch: 08 loss = 0.595257270\n",
      "Epoch: 09 loss = 0.568860739\n",
      "Epoch: 10 loss = 0.545792128\n",
      "Epoch: 11 loss = 0.526783916\n",
      "Epoch: 12 loss = 0.510143149\n",
      "Epoch: 13 loss = 0.495548855\n",
      "Epoch: 14 loss = 0.482694158\n",
      "Epoch: 15 loss = 0.470924134\n",
      "Accuracy:  0.8838\n",
      "Label: [4]\n",
      "Prediction: [4]\n"
     ]
    },
    {
     "data": {
      "image/png": "[encoded data removed]",
      "text/plain": [
       "<matplotlib.figure.Figure at 0x7effe473ccf8>"
      ]
     },
     "metadata": {},
     "output_type": "display_data"
    }
   ],
   "source": [
    "import tensorflow as tf\n",
    "import numpy as np\n",
    "import matplotlib.pyplot as plt\n",
    "import random\n",
    "\n",
    "from tensorflow.examples.tutorials.mnist import input_data\n",
    "# check out https://www.tensorflow.org/get_started/mnist/beginners for\n",
    "# more information about the mnist dataset\n",
    "mnist = input_data.read_data_sets(\"MNIST_data/\", one_hot=True)\n",
    "\n",
    "num_feature = 28 * 28\n",
    "num_class = 10\n",
    "\n",
    "X = tf.placeholder(tf.float32, shape=[None,num_feature])\n",
    "Y = tf.placeholder(tf.float32, shape=[None,num_class])\n",
    "W = tf.Variable(tf.random_normal([num_feature, num_class]), name = 'weight')\n",
    "b = tf.Variable(tf.random_normal([num_class]), name = 'bias')\n",
    "\n",
    "h = tf.nn.softmax(tf.matmul(X, W) + b)\n",
    "loss = -tf.reduce_mean(tf.reduce_sum(Y * tf.log(h), axis=1))\n",
    "train = tf.train.GradientDescentOptimizer(learning_rate=0.1).minimize(loss)\n",
    "\n",
    "\n",
    "is_correct = tf.equal(tf.argmax(h, 1), tf.argmax(Y, 1))\n",
    "acc = tf.reduce_mean(tf.cast(is_correct, tf.float32))\n",
    "\n",
    "epoch = 15\n",
    "batch_size = 100\n",
    "\n",
    "with tf.Session() as sess:\n",
    "    sess.run(tf.global_variables_initializer())\n",
    "    for step in range(epoch):\n",
    "        avg_loss = 0\n",
    "        batches = int(mnist.train.num_examples/ batch_size)\n",
    "        for i in range(batches):\n",
    "            x_batch, y_batch = mnist.train.next_batch(batch_size)\n",
    "            feed = {X: x_batch, Y: y_batch}\n",
    "            _, l = sess.run([train, loss], feed_dict = feed)\n",
    "            avg_loss += l/ batches\n",
    "        print('Epoch:', '%02d' % (step+1), 'loss =', '{:.9f}'.format(avg_loss))\n",
    "    print(\"Accuracy: \", acc.eval(session=sess, \n",
    "                                 feed_dict={X:mnist.test.images, Y:mnist.test.labels}))\n",
    "    r = random.randint(0, mnist.test.num_examples - 1)\n",
    "    print(\"Label:\", sess.run(tf.argmax(mnist.test.labels[r:r+1], 1)))\n",
    "    print(\"Prediction:\", sess.run(tf.argmax(h, 1), feed_dict=\n",
    "                                  {X:mnist.test.images[r:r+1]}))\n",
    "    plt.imshow(mnist.test.images[r].reshape(28, 28))\n",
    "    plt.show()"
   ]
  }
 ],
 "metadata": {
  "kernelspec": {
   "display_name": "Python 3",
   "language": "python",
   "name": "python3"
  },
  "language_info": {
   "codemirror_mode": {
    "name": "ipython",
    "version": 3
   },
   "file_extension": ".py",
   "mimetype": "text/x-python",
   "name": "python",
   "nbconvert_exporter": "python",
   "pygments_lexer": "ipython3",
   "version": "3.6.2"
  }
 },
 "nbformat": 4,
 "nbformat_minor": 2
}
