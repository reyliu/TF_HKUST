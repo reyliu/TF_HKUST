{
 "cells": [
  {
   "cell_type": "code",
   "execution_count": 6,
   "metadata": {},
   "outputs": [
    {
     "name": "stdout",
     "output_type": "stream",
     "text": [
      "0 0.745094\n",
      "2000 0.397371\n",
      "4000 0.292897\n",
      "6000 0.228212\n",
      "8000 0.185942\n",
      "10000 0.156664\n",
      "\n",
      "Hypothesis:  [[ 0.03381246]\n",
      " [ 0.16281231]\n",
      " [ 0.31924501]\n",
      " [ 0.77488893]\n",
      " [ 0.93540925]\n",
      " [ 0.97878098]] \n",
      "Predict:  [[ 0.]\n",
      " [ 0.]\n",
      " [ 0.]\n",
      " [ 1.]\n",
      " [ 1.]\n",
      " [ 1.]] \n",
      "Accuracy:  1.0\n"
     ]
    }
   ],
   "source": [
    "import tensorflow as tf\n",
    "\n",
    "x_data = [[1,2],[2,3],[3,1],[4,3],[5,3],[6,2]]\n",
    "y_data = [[0], [0], [0], [1], [1], [1]]\n",
    "\n",
    "# placeholders for a tensor that will be always fed.\n",
    "X = tf.placeholder(tf.float32, shape=[None, 2])\n",
    "Y = tf.placeholder(tf.float32, shape=[None, 1])\n",
    "W = tf.Variable(tf.random_normal([2,1]), name='weight')\n",
    "b = tf.Variable(tf.random_normal([1]), name='bias')\n",
    "\n",
    "# hypothesis using sigmoid\n",
    "h = tf.sigmoid(tf.matmul(X, W) + b)\n",
    "loss = -tf.reduce_mean(Y * tf.log(h) + (1 - Y) * tf.log(1-h))\n",
    "train = tf.train.GradientDescentOptimizer(learning_rate=0.01).minimize(loss)\n",
    "\n",
    "# Accuracy computation: True if h>0.5, False o.w.\n",
    "p = tf.cast(h > 0.5, dtype = tf.float32)\n",
    "accuracy = tf.reduce_mean(tf.cast(tf.equal(p, Y), dtype=tf.float32))\n",
    "\n",
    "## Training the model\n",
    "# Launch graph\n",
    "with tf.Session() as sess:\n",
    "    # Initialize Tensorflow variables\n",
    "    sess.run(tf.global_variables_initializer())\n",
    "    \n",
    "    for step in range(10001):\n",
    "        _, loss_val = sess.run([train, loss], feed_dict={X: x_data, Y: y_data})\n",
    "        if step % 2000 == 0:\n",
    "            print(step, loss_val)\n",
    "    \n",
    "    h_val, p_val, acc_val = sess.run([h, p, accuracy], \\\n",
    "                                        feed_dict={X: x_data, Y: y_data})\n",
    "    print(\"\\nHypothesis: \", h_val, \"\\nPredict: \", p_val, \"\\nAccuracy: \", acc_val)\n",
    "    \n"
   ]
  },
  {
   "cell_type": "code",
   "execution_count": 8,
   "metadata": {},
   "outputs": [
    {
     "name": "stdout",
     "output_type": "stream",
     "text": [
      "0 0.854307\n",
      "2000 0.600312\n",
      "4000 0.534428\n",
      "6000 0.505598\n",
      "8000 0.491734\n",
      "10000 0.484419\n",
      "\n",
      "Hypothesis:  [[ 0.44007173]\n",
      " [ 0.92459404]\n",
      " [ 0.35875955]\n",
      " [ 0.94227535]\n",
      " [ 0.43291107]\n",
      " [ 0.77951455]\n",
      " [ 0.93910408]\n",
      " [ 0.54060251]\n",
      " [ 0.22109775]\n",
      " [ 0.50898486]] \n",
      "Predict:  [[ 0.]\n",
      " [ 1.]\n",
      " [ 0.]\n",
      " [ 1.]\n",
      " [ 0.]\n",
      " [ 1.]\n",
      " [ 1.]\n",
      " [ 1.]\n",
      " [ 0.]\n",
      " [ 1.]] \n",
      "Accuracy:  0.766798\n"
     ]
    }
   ],
   "source": [
    "import numpy as np\n",
    "xy = np.loadtxt('data-03-diabetes.csv', delimiter=',', dtype=np.float32)\n",
    "x_data = xy[:, 0:-1]\n",
    "y_data = xy[:, [-1]]\n",
    "\n",
    "X = tf.placeholder(tf.float32, shape=[None, 8])\n",
    "Y = tf.placeholder(tf.float32, shape=[None, 1])\n",
    "W = tf.Variable(tf.random_normal([8, 1]), name = 'weight')\n",
    "b = tf.Variable(tf.random_normal([1]), name = 'bias')\n",
    "\n",
    "h = tf.sigmoid(tf.matmul(X, W) + b)\n",
    "loss = -tf.reduce_mean(Y * tf.log(h) + (1 - Y)*tf.log(1 - h))\n",
    "train = tf.train.GradientDescentOptimizer(learning_rate=0.01).minimize(loss)\n",
    "p = tf.cast(h > 0.5, dtype = tf.float32)\n",
    "acc = tf.reduce_mean(tf.cast(tf.equal(p, Y), dtype=tf.float32))\n",
    "s = 10\n",
    "\n",
    "with tf.Session() as sess:\n",
    "    sess.run(tf.global_variables_initializer())\n",
    "    feed = {X: x_data, Y: y_data}\n",
    "    for step in range(10001):\n",
    "        sess.run(train, feed_dict = feed)\n",
    "        if step%2000 == 0:\n",
    "            print(step, sess.run(loss, feed_dict = feed))\n",
    "            \n",
    "    h_val, p_val, acc_val = sess.run([h, p, acc], feed_dict = feed)\n",
    "    print(\"\\nHypothesis: \", h_val[0:s,:], \"\\nPredict: \", p_val[0:s,:], \"\\nAccuracy: \", acc_val)\n"
   ]
  },
  {
   "cell_type": "code",
   "execution_count": null,
   "metadata": {
    "collapsed": true
   },
   "outputs": [],
   "source": []
  }
 ],
 "metadata": {
  "kernelspec": {
   "display_name": "Python 3",
   "language": "python",
   "name": "python3"
  },
  "language_info": {
   "codemirror_mode": {
    "name": "ipython",
    "version": 3
   },
   "file_extension": ".py",
   "mimetype": "text/x-python",
   "name": "python",
   "nbconvert_exporter": "python",
   "pygments_lexer": "ipython3",
   "version": "3.6.2"
  }
 },
 "nbformat": 4,
 "nbformat_minor": 2
}
