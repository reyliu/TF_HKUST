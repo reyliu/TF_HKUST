{
 "cells": [
  {
   "cell_type": "code",
   "execution_count": 1,
   "metadata": {},
   "outputs": [
    {
     "data": {
      "text/plain": [
       "'1.3.0'"
      ]
     },
     "execution_count": 1,
     "metadata": {},
     "output_type": "execute_result"
    }
   ],
   "source": [
    "import tensorflow as tf\n",
    "tf.__version__"
   ]
  },
  {
   "cell_type": "code",
   "execution_count": 2,
   "metadata": {},
   "outputs": [
    {
     "name": "stdout",
     "output_type": "stream",
     "text": [
      "b'Hello, Tensorflow!'\n"
     ]
    }
   ],
   "source": [
    "#1# TensorFlow Hello World!\n",
    "# Create a constant op\n",
    "# This op is added as a node to the default graph\n",
    "hello = tf.constant(\"Hello, Tensorflow!\")\n",
    "\n",
    "# seart a TF session\n",
    "sess = tf.Session()\n",
    "\n",
    "# run the op and get result\n",
    "print(sess.run(hello))"
   ]
  },
  {
   "cell_type": "code",
   "execution_count": 3,
   "metadata": {},
   "outputs": [
    {
     "name": "stdout",
     "output_type": "stream",
     "text": [
      "node1: Tensor(\"Const_1:0\", shape=(), dtype=float32) node2 Tensor(\"Const_2:0\", shape=(), dtype=float32)\n",
      "node3: Tensor(\"Add:0\", shape=(), dtype=float32)\n"
     ]
    }
   ],
   "source": [
    "#2# Computational Graph\n",
    "node1 = tf.constant(3.0, tf.float32)\n",
    "node2 = tf.constant(4.0) # also tf.float32 implicitly\n",
    "node3 = tf.add(node1, node2)\n",
    "\n",
    "print(\"node1:\", node1, \"node2\",node2)\n",
    "print(\"node3:\", node3)"
   ]
  },
  {
   "cell_type": "code",
   "execution_count": 5,
   "metadata": {},
   "outputs": [
    {
     "name": "stdout",
     "output_type": "stream",
     "text": [
      "sess.run(node1, node2):  [3.0, 4.0]\n",
      "sess.run(node3):  7.0\n"
     ]
    }
   ],
   "source": [
    "sess = tf.Session()\n",
    "print(\"sess.run(node1, node2): \", sess.run([node1, node2]))\n",
    "print(\"sess.run(node3): \", sess.run(node3))"
   ]
  },
  {
   "cell_type": "code",
   "execution_count": 7,
   "metadata": {},
   "outputs": [
    {
     "name": "stdout",
     "output_type": "stream",
     "text": [
      "7.5\n",
      "[ 3.  7.]\n"
     ]
    }
   ],
   "source": [
    "#3# Placeholder\n",
    "a = tf.placeholder(tf.float32) #required positional argument: 'dtype'\n",
    "b = tf.placeholder(tf.float32)\n",
    "adder_node = a + b  # + provides a shortcut for tf.add(a, b)\n",
    "\n",
    "# sess.run(op, feed_dict={x:x_data})\n",
    "print(sess.run(adder_node, feed_dict={a: 3, b: 4.5}))\n",
    "print(sess.run(adder_node, feed_dict={a: [1,3], b: [2,4]}))"
   ]
  },
  {
   "cell_type": "code",
   "execution_count": 8,
   "metadata": {},
   "outputs": [
    {
     "data": {
      "text/plain": [
       "[[[1.0, 2.0, 3.0]], [[7.0, 8.0, 9.0]]]"
      ]
     },
     "execution_count": 8,
     "metadata": {},
     "output_type": "execute_result"
    }
   ],
   "source": [
    "#4# Everything is Tensor\n",
    "3 # a rank 0 tensor; this is a scalar with shape []\n",
    "[1., 2., 3.] # a rank 1 tensor; this is a vector with shape [3]\n",
    "[[1., 2., 3.], [4., 5., 6.]] # a rank 2 tensor; a matrix with shape [2,3]\n",
    "[[[1., 2., 3.]], [[7., 8., 9.]]] # a rank 3 tensor with shape [2,1,3]"
   ]
  },
  {
   "cell_type": "code",
   "execution_count": 12,
   "metadata": {},
   "outputs": [
    {
     "name": "stdout",
     "output_type": "stream",
     "text": [
      "0 4.21333 [-0.23640755] [ 0.68558347]\n",
      "200 0.0581301 [ 0.71997535] [ 0.63656187]\n",
      "400 0.0221969 [ 0.82696182] [ 0.3933565]\n",
      "600 0.00847585 [ 0.8930729] [ 0.24307036]\n",
      "800 0.00323649 [ 0.93392563] [ 0.15020266]\n",
      "1000 0.00123586 [ 0.95917004] [ 0.0928162]\n",
      "1200 0.000471911 [ 0.97476953] [ 0.05735476]\n",
      "1400 0.000180197 [ 0.98440909] [ 0.03544177]\n",
      "1600 6.88076e-05 [ 0.9903658] [ 0.02190081]\n",
      "1800 2.62736e-05 [ 0.99404675] [ 0.01353323]\n",
      "2000 1.00327e-05 [ 0.9963212] [ 0.00836278]\n"
     ]
    }
   ],
   "source": [
    "#5# Regression\n",
    "# X and Y data\n",
    "x_train = [1, 2, 3]\n",
    "y_train = [1, 2, 3]\n",
    "\n",
    "W = tf.Variable(tf.random_normal([1]), name = 'weight')\n",
    "b = tf.Variable(tf.random_normal([1]), name = 'bias')\n",
    "\n",
    "# Our hypothesis XW+b\n",
    "h = x_train * W + b\n",
    "\n",
    "# cost/loss function\n",
    "cost = tf. reduce_mean(tf.square(h - y_train))\n",
    "\n",
    "# Minimize\n",
    "optimizer = tf.train.GradientDescentOptimizer(learning_rate = 0.01)\n",
    "train = optimizer.minimize(cost)\n",
    "\n",
    "# Launch the graph in a session\n",
    "sess = tf.Session()\n",
    "# Initialize global variables in the graph\n",
    "sess.run(tf.global_variables_initializer())\n",
    "\n",
    "# Fit the line\n",
    "for step in range(2001):\n",
    "    sess.run(train)\n",
    "    if step % 200 == 0:\n",
    "        print(step, sess.run(cost), sess.run(W), sess.run(b))"
   ]
  },
  {
   "cell_type": "code",
   "execution_count": 21,
   "metadata": {},
   "outputs": [
    {
     "name": "stdout",
     "output_type": "stream",
     "text": [
      "X:  Tensor(\"Placeholder_13:0\", dtype=float32)\n",
      "W:  <tf.Variable 'weight_9:0' shape=(1,) dtype=float32_ref>\n",
      "h:  Tensor(\"add_10:0\", dtype=float32)\n",
      "cost:  Tensor(\"Mean_9:0\", dtype=float32)\n",
      "optimizer:  <tensorflow.python.training.gradient_descent.GradientDescentOptimizer object at 0x7f73c3e62828>\n",
      "train:  name: \"GradientDescent_9\"\n",
      "op: \"NoOp\"\n",
      "input: \"^GradientDescent_9/update_weight_9/ApplyGradientDescent\"\n",
      "input: \"^GradientDescent_9/update_bias_9/ApplyGradientDescent\"\n",
      "\n",
      "sess:  <tensorflow.python.client.session.Session object at 0x7f73c3e62a58>\n",
      "sess.run:  None\n",
      "0 25.1186 [-0.688344] [-0.86062604]\n",
      "200 0.000537307 [ 1.02685726] [-0.06105294]\n",
      "400 0.000205169 [ 1.01659608] [-0.03772685]\n",
      "600 7.83444e-05 [ 1.01025558] [-0.0233129]\n",
      "800 2.99165e-05 [ 1.00633729] [-0.0144061]\n",
      "1000 1.14239e-05 [ 1.00391614] [-0.00890232]\n",
      "1200 4.36237e-06 [ 1.00242007] [-0.00550127]\n",
      "1400 1.66644e-06 [ 1.00149572] [-0.00339987]\n",
      "1600 6.36553e-07 [ 1.00092447] [-0.00210149]\n",
      "1800 2.43419e-07 [ 1.00057161] [-0.0012996]\n",
      "2000 9.3251e-08 [ 1.00035417] [-0.00080418]\n"
     ]
    }
   ],
   "source": [
    "# replace X and Y data with Placeholders\n",
    "X = tf.placeholder(tf.float32)\n",
    "Y = tf.placeholder(tf.float32)\n",
    "print('X: ', X)\n",
    "\n",
    "W = tf.Variable(tf.random_normal([1]), name = 'weight')\n",
    "b = tf.Variable(tf.random_normal([1]), name = 'bias')\n",
    "print('W: ', W)\n",
    "\n",
    "# Our hypothesis XW+b\n",
    "h = X * W + b\n",
    "print('h: ', h)\n",
    "\n",
    "# cost/loss function\n",
    "cost = tf. reduce_mean(tf.square(h - Y))\n",
    "print('cost: ' ,cost)\n",
    "\n",
    "# Minimize\n",
    "optimizer = tf.train.GradientDescentOptimizer(learning_rate = 0.01)\n",
    "train = optimizer.minimize(cost)\n",
    "print('optimizer: ', optimizer)\n",
    "print('train: ', train)\n",
    "\n",
    "# Launch the graph in a session\n",
    "sess = tf.Session()\n",
    "print('sess: ', sess)\n",
    "# Initialize global variables in the graph\n",
    "sess.run(tf.global_variables_initializer())\n",
    "print('sess.run: ', sess.run(tf.global_variables_initializer()))\n",
    "\n",
    "# Fit the line\n",
    "for step in range(2001):\n",
    "    _, cost_val, W_val, b_val = sess.run([train, cost, W, b], \\\n",
    "                             feed_dict={X: [1,2,3], Y: [1,2,3]})\n",
    "    if step % 200 == 0:\n",
    "        print(step, cost_val, W_val, b_val)"
   ]
  },
  {
   "cell_type": "code",
   "execution_count": 18,
   "metadata": {},
   "outputs": [
    {
     "name": "stdout",
     "output_type": "stream",
     "text": [
      "[ 1.50284672  2.4991653   4.98996162]\n"
     ]
    }
   ],
   "source": [
    "# test our model\n",
    "print(sess.run(h, feed_dict={X: [1.5, 2.5, 5]}))"
   ]
  },
  {
   "cell_type": "code",
   "execution_count": null,
   "metadata": {
    "collapsed": true
   },
   "outputs": [],
   "source": []
  }
 ],
 "metadata": {
  "kernelspec": {
   "display_name": "Python 3",
   "language": "python",
   "name": "python3"
  },
  "language_info": {
   "codemirror_mode": {
    "name": "ipython",
    "version": 3
   },
   "file_extension": ".py",
   "mimetype": "text/x-python",
   "name": "python",
   "nbconvert_exporter": "python",
   "pygments_lexer": "ipython3",
   "version": "3.6.2"
  }
 },
 "nbformat": 4,
 "nbformat_minor": 2
}
